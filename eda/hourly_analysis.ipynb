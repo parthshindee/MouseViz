{
 "cells": [
  {
   "cell_type": "code",
   "execution_count": 3,
   "metadata": {},
   "outputs": [],
   "source": [
    "import pandas as pd"
   ]
  },
  {
   "cell_type": "code",
   "execution_count": 4,
   "metadata": {},
   "outputs": [],
   "source": [
    "excel_path = \"mouse_data.xlsx\"\n",
    "xls = pd.ExcelFile(excel_path)\n",
    "act_df = pd.read_excel(xls, sheet_name = \"Fem Act\")\n",
    "temp_df = pd.read_excel(xls, sheet_name = \"Fem Temp\")"
   ]
  },
  {
   "cell_type": "code",
   "execution_count": 5,
   "metadata": {},
   "outputs": [],
   "source": [
    "MINUTES_PER_DAY = 1440\n",
    "\n",
    "for df in (act_df, temp_df):\n",
    "    df[\"day\"] = df.index // MINUTES_PER_DAY\n",
    "    df[\"minute\"] = df.index % MINUTES_PER_DAY\n",
    "    df[\"estrus\"] = (df[\"day\"] % 4 == 2)"
   ]
  },
  {
   "cell_type": "code",
   "execution_count": 6,
   "metadata": {},
   "outputs": [],
   "source": [
    "mouse_cols = [\n",
    "    c for c in act_df.columns if c not in (\"day\", \"minute\", \"estrus\")\n",
    "]\n",
    "\n",
    "activity_long = act_df.melt(\n",
    "    id_vars = [\"day\", \"minute\", \"estrus\"],\n",
    "    value_vars = mouse_cols,\n",
    "    var_name = \"mouse\",\n",
    "    value_name = \"activity\"\n",
    ")\n",
    "\n",
    "temperature_long = temp_df.melt(\n",
    "    id_vars = [\"day\", \"minute\", \"estrus\"],\n",
    "    value_vars = mouse_cols,\n",
    "    var_name = \"mouse\",\n",
    "    value_name = \"temperature\"\n",
    ")"
   ]
  },
  {
   "cell_type": "code",
   "execution_count": 7,
   "metadata": {},
   "outputs": [],
   "source": [
    "merged = pd.merge(\n",
    "    activity_long,\n",
    "    temperature_long,\n",
    "    on = [\"day\", \"minute\", \"estrus\", \"mouse\"]\n",
    ")\n",
    "\n",
    "BIN_SIZE = 60\n",
    "merged[\"hour\"] = merged[\"minute\"] // BIN_SIZE\n",
    "\n",
    "hourly = (\n",
    "    merged\n",
    "    .groupby([\"day\", \"hour\", \"estrus\"])\n",
    "    .agg(\n",
    "        activity_mean = (\"activity\", \"mean\"),\n",
    "        temperature_mean = (\"temperature\", \"mean\")\n",
    "    )\n",
    "    .reset_index()\n",
    ")"
   ]
  },
  {
   "cell_type": "code",
   "execution_count": 8,
   "metadata": {},
   "outputs": [],
   "source": [
    "hourly.to_json(\"../data/hourly_phase1.json\", orient = \"records\", indent = 2)"
   ]
  }
 ],
 "metadata": {
  "kernelspec": {
   "display_name": "Python 3",
   "language": "python",
   "name": "python3"
  },
  "language_info": {
   "codemirror_mode": {
    "name": "ipython",
    "version": 3
   },
   "file_extension": ".py",
   "mimetype": "text/x-python",
   "name": "python",
   "nbconvert_exporter": "python",
   "pygments_lexer": "ipython3",
   "version": "3.13.1"
  }
 },
 "nbformat": 4,
 "nbformat_minor": 2
}
