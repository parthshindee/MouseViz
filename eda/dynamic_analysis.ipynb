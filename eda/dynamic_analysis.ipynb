{
 "cells": [
  {
   "cell_type": "code",
   "execution_count": 1,
   "metadata": {},
   "outputs": [],
   "source": [
    "import os\n",
    "import pandas as pd"
   ]
  },
  {
   "cell_type": "code",
   "execution_count": 2,
   "metadata": {},
   "outputs": [],
   "source": [
    "excel_path = \"mouse_data.xlsx\"\n",
    "output_dir = \"../data\"\n",
    "bin_sizes  = [5, 15, 30, 60]"
   ]
  },
  {
   "cell_type": "code",
   "execution_count": 3,
   "metadata": {},
   "outputs": [],
   "source": [
    "xls = pd.ExcelFile(excel_path)\n",
    "act_df = pd.read_excel(xls, sheet_name = \"Fem Act\")\n",
    "temp_df = pd.read_excel(xls, sheet_name = \"Fem Temp\")\n",
    "\n",
    "for df in (act_df, temp_df):\n",
    "    df[\"day\"] = df.index // 1440\n",
    "    df[\"minute\"] = df.index % 1440\n",
    "    df[\"estrus\"] = (df[\"day\"] % 4 == 2)"
   ]
  },
  {
   "cell_type": "code",
   "execution_count": 4,
   "metadata": {},
   "outputs": [],
   "source": [
    "mouse_cols = [\n",
    "    c for c in act_df.columns if c not in (\"day\", \"minute\", \"estrus\")\n",
    "]\n",
    "\n",
    "act_long   = act_df.melt(\n",
    "    id_vars = [\"day\", \"minute\", \"estrus\"],\n",
    "    value_vars = mouse_cols,\n",
    "    var_name = \"mouse\",\n",
    "    value_name = \"activity\"\n",
    ")\n",
    "\n",
    "temp_long  = temp_df.melt(\n",
    "    id_vars = [\"day\", \"minute\", \"estrus\"],\n",
    "    value_vars = mouse_cols,\n",
    "    var_name = \"mouse\",\n",
    "    value_name = \"temperature\"\n",
    ")\n",
    "\n",
    "merged = pd.merge(\n",
    "    act_long, temp_long,\n",
    "    on=[\"day\", \"minute\", \"estrus\", \"mouse\"]\n",
    ")"
   ]
  },
  {
   "cell_type": "code",
   "execution_count": 5,
   "metadata": {},
   "outputs": [
    {
     "name": "stdout",
     "output_type": "stream",
     "text": [
      "Written ../data/hourly_5min.json (4032 records)\n",
      "Written ../data/summary_5min.json (576 records)\n",
      "Written ../data/hourly_15min.json (1344 records)\n",
      "Written ../data/summary_15min.json (192 records)\n",
      "Written ../data/hourly_30min.json (672 records)\n",
      "Written ../data/summary_30min.json (96 records)\n",
      "Written ../data/hourly_60min.json (336 records)\n",
      "Written ../data/summary_60min.json (48 records)\n"
     ]
    }
   ],
   "source": [
    "for BIN_SIZE in bin_sizes:\n",
    "    df = merged.copy()\n",
    "    \n",
    "    df[\"bin\"] = df[\"minute\"] // BIN_SIZE\n",
    "    \n",
    "    hourly = (\n",
    "        df\n",
    "        .groupby([\"day\", \"bin\", \"estrus\"])\n",
    "        .agg(\n",
    "            activity_mean = (\"activity\", \"mean\"),\n",
    "            temperature_mean = (\"temperature\", \"mean\")\n",
    "        )\n",
    "        .reset_index()\n",
    "    )\n",
    "\n",
    "    hourly[\"ratio\"] = hourly[\"temperature_mean\"] / hourly[\"activity_mean\"]\n",
    "\n",
    "    hourly_file = os.path.join(output_dir, f\"hourly_{BIN_SIZE}min.json\")\n",
    "    hourly.to_json(hourly_file, orient = \"records\", indent = 2)\n",
    "    print(f\"Written {hourly_file} ({len(hourly)} records)\")\n",
    "\n",
    "    summary = (\n",
    "        hourly\n",
    "        .groupby([\"estrus\", \"bin\"])\n",
    "        .agg(\n",
    "            activity_mean = (\"activity_mean\", \"mean\"),\n",
    "            activity_std = (\"activity_mean\", \"std\"),\n",
    "            temperature_mean = (\"temperature_mean\", \"mean\"),\n",
    "            temperature_std = (\"temperature_mean\", \"std\"),\n",
    "            ratio_mean = (\"ratio\", \"mean\"),\n",
    "            ratio_std = (\"ratio\", \"std\"),\n",
    "            count = (\"day\", \"count\")\n",
    "        )\n",
    "        .reset_index()\n",
    "    )\n",
    "\n",
    "    summary_file = os.path.join(output_dir, f\"summary_{BIN_SIZE}min.json\")\n",
    "    summary.to_json(summary_file, orient = \"records\", indent = 2)\n",
    "    print(f\"Written {summary_file} ({len(summary)} records)\")"
   ]
  }
 ],
 "metadata": {
  "kernelspec": {
   "display_name": "Python 3",
   "language": "python",
   "name": "python3"
  },
  "language_info": {
   "codemirror_mode": {
    "name": "ipython",
    "version": 3
   },
   "file_extension": ".py",
   "mimetype": "text/x-python",
   "name": "python",
   "nbconvert_exporter": "python",
   "pygments_lexer": "ipython3",
   "version": "3.13.1"
  }
 },
 "nbformat": 4,
 "nbformat_minor": 2
}
